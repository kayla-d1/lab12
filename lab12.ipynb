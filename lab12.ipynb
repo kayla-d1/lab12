{
 "cells": [
  {
   "cell_type": "markdown",
   "metadata": {},
   "source": [
    "Kayla Wilkins\n",
    "MIS 545 01"
   ]
  },
  {
   "cell_type": "code",
   "execution_count": 47,
   "metadata": {},
   "outputs": [],
   "source": [
    "# Load any packages\n",
    "import numpy as np\n",
    "import pandas as pd\n",
    "from sklearn.linear_model import LinearRegression # linear regression\n",
    "import statsmodels.formula.api as smf\n",
    "from sklearn.tree import DecisionTreeClassifier # Import Decision Tree Classifier\n",
    "from sklearn.model_selection import train_test_split # Import train_test_split function\n",
    "from sklearn import metrics #Import scikit-learn metrics module for accuracy calculation"
   ]
  },
  {
   "cell_type": "code",
   "execution_count": 48,
   "metadata": {},
   "outputs": [],
   "source": [
    "# Build fake data\n",
    "# Set a random seed for reproducibility\n",
    "np.random.seed(42)\n",
    "\n",
    "# Generate X values\n",
    "X = np.linspace(0, 10, 100)\n",
    "\n",
    "# Create a linear relationship with Y and add some noise\n",
    "slope = 2.5\n",
    "intercept = 5\n",
    "noise = np.random.normal(0, 4, 100)  # Simulate noise\n",
    "Y = slope * X + intercept + noise\n",
    "\n",
    "# Create a DataFrame\n",
    "df = pd.DataFrame({'X': X, 'Y': Y})\n",
    "\n",
    "# Save the DataFrame to a CSV file\n",
    "df.to_csv('linear_regression_data.csv', index=False)"
   ]
  },
  {
   "cell_type": "code",
   "execution_count": 49,
   "metadata": {},
   "outputs": [
    {
     "name": "stdout",
     "output_type": "stream",
     "text": [
      "         X          Y\n",
      "0  0.00000   6.986857\n",
      "1  0.10101   4.699468\n",
      "2  0.20202   8.095805\n",
      "3  0.30303  11.849695\n",
      "4  0.40404   5.073488\n"
     ]
    }
   ],
   "source": [
    "# The next few code blocks will be for exploratory data analysis and performing a linear regression on the data created above\n",
    "# Display the first five records of df\n",
    "print(df.head(5))"
   ]
  },
  {
   "cell_type": "code",
   "execution_count": 50,
   "metadata": {},
   "outputs": [
    {
     "name": "stdout",
     "output_type": "stream",
     "text": [
      "<class 'pandas.core.frame.DataFrame'>\n",
      "RangeIndex: 100 entries, 0 to 99\n",
      "Data columns (total 2 columns):\n",
      " #   Column  Non-Null Count  Dtype  \n",
      "---  ------  --------------  -----  \n",
      " 0   X       100 non-null    float64\n",
      " 1   Y       100 non-null    float64\n",
      "dtypes: float64(2)\n",
      "memory usage: 1.7 KB\n",
      "None\n"
     ]
    }
   ],
   "source": [
    "# Display the structure of df\n",
    "print(df.info())"
   ]
  },
  {
   "cell_type": "code",
   "execution_count": 51,
   "metadata": {},
   "outputs": [
    {
     "name": "stdout",
     "output_type": "stream",
     "text": [
      "                X           Y\n",
      "count  100.000000  100.000000\n",
      "mean     5.000000   17.084614\n",
      "std      2.930454    8.320912\n",
      "min      0.000000    0.629707\n",
      "25%      2.500000    9.795100\n",
      "50%      5.000000   16.284842\n",
      "75%      7.500000   24.172596\n",
      "max     10.000000   31.854378\n"
     ]
    }
   ],
   "source": [
    "# Display summary statistics of df\n",
    "print(df.describe())"
   ]
  },
  {
   "cell_type": "code",
   "execution_count": 52,
   "metadata": {},
   "outputs": [
    {
     "data": {
      "text/plain": [
       "array([[<Axes: title={'center': 'Y'}>]], dtype=object)"
      ]
     },
     "execution_count": 52,
     "metadata": {},
     "output_type": "execute_result"
    },
    {
     "data": {
      "image/png": "[encoded data removed]",
      "text/plain": [
       "<Figure size 640x480 with 1 Axes>"
      ]
     },
     "metadata": {},
     "output_type": "display_data"
    }
   ],
   "source": [
    "# Display a histogram of column Y in df\n",
    "df.hist(column = \"Y\")"
   ]
  },
  {
   "cell_type": "code",
   "execution_count": 53,
   "metadata": {},
   "outputs": [],
   "source": [
    "# Generate the linear regression model and save it in an object called dfModel\n",
    "dfModel = smf.ols('Y ~ X', data = df).fit()"
   ]
  },
  {
   "cell_type": "code",
   "execution_count": 54,
   "metadata": {},
   "outputs": [
    {
     "name": "stdout",
     "output_type": "stream",
     "text": [
      "Intercept    4.308749\n",
      "X            2.555173\n",
      "dtype: float64\n"
     ]
    }
   ],
   "source": [
    "# Display the beta coefficients for the model\n",
    "print(dfModel.params)"
   ]
  },
  {
   "cell_type": "code",
   "execution_count": 55,
   "metadata": {},
   "outputs": [
    {
     "name": "stdout",
     "output_type": "stream",
     "text": [
      "                            OLS Regression Results                            \n",
      "==============================================================================\n",
      "Dep. Variable:                      Y   R-squared:                       0.810\n",
      "Model:                            OLS   Adj. R-squared:                  0.808\n",
      "Method:                 Least Squares   F-statistic:                     417.2\n",
      "Date:                Thu, 30 Nov 2023   Prob (F-statistic):           4.30e-37\n",
      "Time:                        23:41:54   Log-Likelihood:                -270.29\n",
      "No. Observations:                 100   AIC:                             544.6\n",
      "Df Residuals:                      98   BIC:                             549.8\n",
      "Df Model:                           1                                         \n",
      "Covariance Type:            nonrobust                                         \n",
      "==============================================================================\n",
      "                 coef    std err          t      P>|t|      [0.025      0.975]\n",
      "------------------------------------------------------------------------------\n",
      "Intercept      4.3087      0.724      5.951      0.000       2.872       5.746\n",
      "X              2.5552      0.125     20.425      0.000       2.307       2.803\n",
      "==============================================================================\n",
      "Omnibus:                        0.521   Durbin-Watson:                   2.042\n",
      "Prob(Omnibus):                  0.771   Jarque-Bera (JB):                0.518\n",
      "Skew:                          -0.167   Prob(JB):                        0.772\n",
      "Kurtosis:                       2.885   Cond. No.                         11.7\n",
      "==============================================================================\n",
      "\n",
      "Notes:\n",
      "[1] Standard Errors assume that the covariance matrix of the errors is correctly specified.\n"
     ]
    }
   ],
   "source": [
    "# Display the linear regression model results summary\n",
    "print(dfModel.summary())"
   ]
  },
  {
   "cell_type": "code",
   "execution_count": 56,
   "metadata": {},
   "outputs": [],
   "source": [
    "# Create new data, perform exploratory data analysis, and make a decision tree based on the data\n",
    "# Set a random seed for reproducibility\n",
    "np.random.seed(42)\n",
    "\n",
    "# Create a dataset with 100 rows\n",
    "data = {\n",
    "    'Age': np.random.randint(18, 65, 100),\n",
    "    'Income': np.random.uniform(30000, 100000, 100),\n",
    "    'Education': np.random.choice(['High School', 'Bachelor', 'Master', 'PhD'], size=100),\n",
    "    'Employment_Status': np.random.choice(['Employed', 'Unemployed'], size=100),\n",
    "    'Health_Condition': np.random.choice(['Excellent', 'Good', 'Fair', 'Poor'], size=100),\n",
    "    'Decision': np.random.choice(['Yes', 'No'], size=100)\n",
    "}\n",
    "\n",
    "# Create a DataFrame\n",
    "applicant_records = pd.DataFrame(data)\n",
    "\n",
    "# Save the DataFrame to a CSV file\n",
    "applicant_records.to_csv('decision_tree_data.csv', index=False)"
   ]
  },
  {
   "cell_type": "code",
   "execution_count": 57,
   "metadata": {},
   "outputs": [
    {
     "name": "stdout",
     "output_type": "stream",
     "text": [
      "   Age        Income Education Employment_Status Health_Condition Decision\n",
      "0   56  50544.172230  Bachelor        Unemployed             Good      Yes\n",
      "1   46  30985.587590    Master        Unemployed        Excellent       No\n",
      "2   32  43918.968286    Master          Employed             Poor      Yes\n",
      "3   60  79793.936692    Master          Employed        Excellent      Yes\n",
      "4   25  85312.287837       PhD        Unemployed             Poor      Yes\n"
     ]
    }
   ],
   "source": [
    "# Display the first few rows of the DataFrame\n",
    "print(applicant_records.head())"
   ]
  },
  {
   "cell_type": "code",
   "execution_count": 58,
   "metadata": {},
   "outputs": [
    {
     "name": "stdout",
     "output_type": "stream",
     "text": [
      "Age                    int64\n",
      "Income               float64\n",
      "Education             object\n",
      "Employment_Status     object\n",
      "Health_Condition      object\n",
      "Decision              object\n",
      "dtype: object\n"
     ]
    }
   ],
   "source": [
    "# Display the data types of each column\n",
    "print(applicant_records.dtypes)"
   ]
  },
  {
   "cell_type": "code",
   "execution_count": 59,
   "metadata": {},
   "outputs": [],
   "source": [
    "# Apply label encoding to categorical columns\n",
    "applicant_records['Education'] = applicant_records['Education'].astype('category').cat.codes\n",
    "applicant_records['Employment_Status'] = applicant_records['Employment_Status'].astype('category').cat.codes\n",
    "applicant_records['Health_Condition'] = applicant_records['Health_Condition'].astype('category').cat.codes\n",
    "applicant_records['Decision'] = applicant_records['Decision'].astype('category').cat.codes"
   ]
  },
  {
   "cell_type": "code",
   "execution_count": 60,
   "metadata": {},
   "outputs": [],
   "source": [
    "# Split dataset into features named feature_cols and target variables into X and y. Use label as the target variable.\n",
    "feature_cols = ['Age', 'Income', 'Education', 'Health_Condition','Employment_Status']\n",
    "X = applicant_records[feature_cols] # Features\n",
    "y = applicant_records.Decision # Target variable"
   ]
  },
  {
   "cell_type": "code",
   "execution_count": 61,
   "metadata": {},
   "outputs": [],
   "source": [
    "# Split dataset into 70% training set and 30% test set. Put the results into variables named X_train, X_test, y_train, y_test.\n",
    "# Label your variables X_train, X_test, y_train, y_test. Use a random_state value of 1.\n",
    "X_train, X_test, y_train, y_test = train_test_split(X, y, test_size=0.3, random_state=1)"
   ]
  },
  {
   "cell_type": "code",
   "execution_count": 62,
   "metadata": {},
   "outputs": [],
   "source": [
    "# Create Decision Tree classifer object named clf using the gini criterion\n",
    "clf = DecisionTreeClassifier(criterion=\"gini\", random_state=1)"
   ]
  },
  {
   "cell_type": "code",
   "execution_count": 63,
   "metadata": {},
   "outputs": [],
   "source": [
    "# Train the decision tree classifer using the X_train and y_train variables.\n",
    "clf = clf.fit(X_train,y_train)"
   ]
  },
  {
   "cell_type": "code",
   "execution_count": 64,
   "metadata": {},
   "outputs": [],
   "source": [
    "# Predict the response for test dataset and store it in a variable named y_pred\n",
    "y_pred = clf.predict(X_test)"
   ]
  },
  {
   "cell_type": "code",
   "execution_count": 65,
   "metadata": {},
   "outputs": [
    {
     "name": "stdout",
     "output_type": "stream",
     "text": [
      "Accuracy: 0.4\n"
     ]
    }
   ],
   "source": [
    "# Display the Model Accuracy\n",
    "print(\"Accuracy:\",metrics.accuracy_score(y_test, y_pred))"
   ]
  },
  {
   "cell_type": "code",
   "execution_count": 66,
   "metadata": {},
   "outputs": [],
   "source": [
    "# Create a new Decision Tree classifier object names clf using the entropy criterion and a max depth of 3.\n",
    "clf = DecisionTreeClassifier(criterion=\"entropy\", max_depth=3, random_state=1)"
   ]
  },
  {
   "cell_type": "code",
   "execution_count": 67,
   "metadata": {},
   "outputs": [],
   "source": [
    "# Train Decision Tree Classifier using the training data\n",
    "clf = clf.fit(X_train,y_train)"
   ]
  },
  {
   "cell_type": "code",
   "execution_count": 68,
   "metadata": {},
   "outputs": [],
   "source": [
    "# Predict the response for test dataset and place the result in y_pred\n",
    "y_pred = clf.predict(X_test)"
   ]
  },
  {
   "cell_type": "code",
   "execution_count": 69,
   "metadata": {},
   "outputs": [
    {
     "name": "stdout",
     "output_type": "stream",
     "text": [
      "Accuracy: 0.3\n"
     ]
    }
   ],
   "source": [
    "#  Display the Model Accuracy\n",
    "print(\"Accuracy:\",metrics.accuracy_score(y_test, y_pred))"
   ]
  }
 ],
 "metadata": {
  "kernelspec": {
   "display_name": "Python 3",
   "language": "python",
   "name": "python3"
  },
  "language_info": {
   "codemirror_mode": {
    "name": "ipython",
    "version": 3
   },
   "file_extension": ".py",
   "mimetype": "text/x-python",
   "name": "python",
   "nbconvert_exporter": "python",
   "pygments_lexer": "ipython3",
   "version": "3.10.13"
  }
 },
 "nbformat": 4,
 "nbformat_minor": 2
}
